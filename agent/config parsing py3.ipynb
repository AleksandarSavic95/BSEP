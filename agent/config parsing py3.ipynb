{
 "cells": [
  {
   "cell_type": "code",
   "execution_count": 105,
   "metadata": {},
   "outputs": [],
   "source": [
    "import configparser\n",
    "import os\n",
    "from os.path import join, isfile\n",
    "\n",
    "_SIEM = '*SIEM*'\n",
    "_OS = '*OS*'\n",
    "_FIREWALL = '*FW*'\n",
    "_DIRS = 'Directories'\n",
    "_logs = 'logs'\n",
    "_regexes = 'regexes'"
   ]
  },
  {
   "cell_type": "code",
   "execution_count": 108,
   "metadata": {},
   "outputs": [
    {
     "data": {
      "text/plain": [
       "[('address', 'http://localhost:8765')]"
      ]
     },
     "execution_count": 108,
     "metadata": {},
     "output_type": "execute_result"
    }
   ],
   "source": [
    "parser = configparser.ConfigParser(allow_no_value=True, delimiters=('='), inline_comment_prefixes=('#'))\n",
    "parser.optionxform = str # suppress converting keys to lowercase\n",
    "\n",
    "parser.read('./everything/config.ini')\n",
    "parser.items(_SIEM)"
   ]
  },
  {
   "cell_type": "code",
   "execution_count": 115,
   "metadata": {},
   "outputs": [
    {
     "name": "stdout",
     "output_type": "stream",
     "text": [
      "Successfully read SIEM config\n",
      "\n",
      "{'*SIEM*': {'address': 'http://localhost:8765'}}\n",
      "Listing files in: D:\\Radim\\BSEP\\BSEPproject\\BSEP\\agent\\everything\\logs\n",
      "\tfile: socratica-log.log\n",
      "successfully read directory: D:\\Radim\\BSEP\\BSEPproject\\BSEP\\agent\\everything\\logs\n",
      "Invalid path: /var/logs\n",
      "end\n"
     ]
    }
   ],
   "source": [
    "def read_siem(parser, config_dict):\n",
    "    config_dict[_SIEM] = {}\n",
    "    for key, value in parser.items(_SIEM):\n",
    "        config_dict[_SIEM][key] = value\n",
    "    print('Successfully read SIEM config')\n",
    "    print(config_dict)\n",
    "\n",
    "def read_os(parser, config_dict):\n",
    "    parser[]\n",
    "\n",
    "def read_fw(parser, config_dict):\n",
    "    pass\n",
    "\n",
    "def read_dir(parser, config_dict, path=''):\n",
    "    try:\n",
    "        dir_content = os.listdir(path)\n",
    "    except FileNotFoundError:\n",
    "        print ('Invalid path: ' + path)\n",
    "        return\n",
    "    print('Listing files in: ' + path)\n",
    "    result_dict = { _logs: [], _regexes: [] }\n",
    "    for dir_or_file in dir_content:\n",
    "        if isfile(join(path, dir_or_file)):\n",
    "            result_dict[_logs].append(os.path.abspath(dir_or_file))\n",
    "            print('\\tfile: ' + dir_or_file)\n",
    "    print('successfully read directory: ' + path)\n",
    "    config_dict[path] = result_dict\n",
    "\n",
    "config_dict = {}\n",
    "\n",
    "for section in parser.sections():\n",
    "    if section == _SIEM:\n",
    "        read_siem(parser, config_dict)\n",
    "    elif section == _OS:\n",
    "        read_os(parser, config_dict)\n",
    "    elif section == _FIREWALL:\n",
    "        read_fw(parser, config_dict)\n",
    "    else:\n",
    "        read_dir(parser, config_dict, path=section)\n",
    "\n",
    "print('end')"
   ]
  },
  {
   "cell_type": "code",
   "execution_count": null,
   "metadata": {},
   "outputs": [],
   "source": []
  },
  {
   "cell_type": "code",
   "execution_count": 123,
   "metadata": {},
   "outputs": [
    {
     "name": "stdout",
     "output_type": "stream",
     "text": [
      "{'dirs': ['D:/Radim/BSEP', 'Another dir'], 'version': '10', 'name': 'Windows'}\n"
     ]
    }
   ],
   "source": [
    "import json\n",
    "from pprint import pprint\n",
    "\n",
    "with open('./everything/config.json') as f:\n",
    "    configuration = json.load(f)\n",
    "\n",
    "# pprint(configuration)\n",
    "print(configuration['OS'])"
   ]
  },
  {
   "cell_type": "code",
   "execution_count": null,
   "metadata": {},
   "outputs": [],
   "source": []
  }
 ],
 "metadata": {
  "kernelspec": {
   "display_name": "Python 3",
   "language": "python",
   "name": "python3"
  },
  "language_info": {
   "codemirror_mode": {
    "name": "ipython",
    "version": 3
   },
   "file_extension": ".py",
   "mimetype": "text/x-python",
   "name": "python",
   "nbconvert_exporter": "python",
   "pygments_lexer": "ipython3",
   "version": "3.5.4"
  }
 },
 "nbformat": 4,
 "nbformat_minor": 2
}
